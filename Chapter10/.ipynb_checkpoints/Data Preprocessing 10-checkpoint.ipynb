{
 "cells": [
  {
   "cell_type": "markdown",
   "id": "7dd40280-bc1a-41a9-adb7-04960f6fcc2d",
   "metadata": {},
   "source": [
    "# Data Preprocessing #10 OscarV1"
   ]
  },
  {
   "cell_type": "markdown",
   "id": "5ffb763d-13a1-4865-89db-21f22f8651e9",
   "metadata": {},
   "source": [
    "- Upacking\n",
    "- Restructuring\n",
    "- Reformulating"
   ]
  },
  {
   "cell_type": "code",
   "execution_count": null,
   "id": "effaa4db-cca5-46ba-a183-e6813949b010",
   "metadata": {},
   "outputs": [],
   "source": []
  }
 ],
 "metadata": {
  "kernelspec": {
   "display_name": "Python 3 (ipykernel)",
   "language": "python",
   "name": "python3"
  },
  "language_info": {
   "codemirror_mode": {
    "name": "ipython",
    "version": 3
   },
   "file_extension": ".py",
   "mimetype": "text/x-python",
   "name": "python",
   "nbconvert_exporter": "python",
   "pygments_lexer": "ipython3",
   "version": "3.9.12"
  }
 },
 "nbformat": 4,
 "nbformat_minor": 5
}
